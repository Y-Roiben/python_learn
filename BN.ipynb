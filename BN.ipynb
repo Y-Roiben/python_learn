{
 "cells": [
  {
   "cell_type": "code",
   "execution_count": 1,
   "id": "48a63e59",
   "metadata": {},
   "outputs": [],
   "source": [
    "import torch\n",
    "import numpy as np"
   ]
  },
  {
   "cell_type": "code",
   "execution_count": 2,
   "id": "051fdb83",
   "metadata": {},
   "outputs": [
    {
     "data": {
      "text/plain": [
       "tensor([[ 0.,  1.,  2.,  3.,  4.],\n",
       "        [ 5.,  6.,  7.,  8.,  9.],\n",
       "        [10., 11., 12., 13., 14.]])"
      ]
     },
     "execution_count": 2,
     "metadata": {},
     "output_type": "execute_result"
    }
   ],
   "source": [
    "data=torch.arange(15).reshape(3,5).float()\n",
    "data"
   ]
  },
  {
   "cell_type": "code",
   "execution_count": 3,
   "id": "31ad782b",
   "metadata": {},
   "outputs": [],
   "source": [
    "bn = torch.nn.BatchNorm1d(5)"
   ]
  },
  {
   "cell_type": "code",
   "execution_count": 4,
   "id": "3d2d14de",
   "metadata": {},
   "outputs": [
    {
     "data": {
      "text/plain": [
       "OrderedDict([('weight', tensor([1., 1., 1., 1., 1.])),\n",
       "             ('bias', tensor([0., 0., 0., 0., 0.])),\n",
       "             ('running_mean', tensor([0., 0., 0., 0., 0.])),\n",
       "             ('running_var', tensor([1., 1., 1., 1., 1.])),\n",
       "             ('num_batches_tracked', tensor(0))])"
      ]
     },
     "execution_count": 4,
     "metadata": {},
     "output_type": "execute_result"
    }
   ],
   "source": [
    "bn.state_dict()"
   ]
  },
  {
   "cell_type": "code",
   "execution_count": 5,
   "id": "8d5ac376",
   "metadata": {
    "scrolled": true
   },
   "outputs": [
    {
     "data": {
      "text/plain": [
       "tensor([[-1.2247, -1.2247, -1.2247, -1.2247, -1.2247],\n",
       "        [ 0.0000,  0.0000,  0.0000,  0.0000,  0.0000],\n",
       "        [ 1.2247,  1.2247,  1.2247,  1.2247,  1.2247]],\n",
       "       grad_fn=<NativeBatchNormBackward0>)"
      ]
     },
     "execution_count": 5,
     "metadata": {},
     "output_type": "execute_result"
    }
   ],
   "source": [
    "bn(data)"
   ]
  },
  {
   "cell_type": "markdown",
   "id": "6aa47672",
   "metadata": {},
   "source": [
    "### 0.1\\*25+0.9\\*1 = 3.4\n",
    "25 为样本方差"
   ]
  },
  {
   "cell_type": "code",
   "execution_count": 6,
   "id": "897f8ada",
   "metadata": {},
   "outputs": [
    {
     "data": {
      "text/plain": [
       "OrderedDict([('weight', tensor([1., 1., 1., 1., 1.])),\n",
       "             ('bias', tensor([0., 0., 0., 0., 0.])),\n",
       "             ('running_mean',\n",
       "              tensor([0.5000, 0.6000, 0.7000, 0.8000, 0.9000])),\n",
       "             ('running_var', tensor([3.4000, 3.4000, 3.4000, 3.4000, 3.4000])),\n",
       "             ('num_batches_tracked', tensor(1))])"
      ]
     },
     "execution_count": 6,
     "metadata": {},
     "output_type": "execute_result"
    }
   ],
   "source": [
    "bn.state_dict()"
   ]
  },
  {
   "cell_type": "markdown",
   "id": "e11daa1b",
   "metadata": {},
   "source": [
    "![jupyter](./var.png)"
   ]
  },
  {
   "cell_type": "markdown",
   "id": "2d52c337",
   "metadata": {},
   "source": [
    "torch.var两种方差都可以计算，这取决于一个参数，即unbiased，无偏的意思。默认值为true，也就是说，默认的目的是样本估计总体，使用的是上面这个样本方差公式，计算的是样本方差。"
   ]
  },
  {
   "cell_type": "code",
   "execution_count": 7,
   "id": "4bd1593e",
   "metadata": {},
   "outputs": [
    {
     "data": {
      "text/plain": [
       "tensor([25., 25., 25., 25., 25.])"
      ]
     },
     "execution_count": 7,
     "metadata": {},
     "output_type": "execute_result"
    }
   ],
   "source": [
    "var = data.var(0)\n",
    "var"
   ]
  },
  {
   "cell_type": "code",
   "execution_count": 8,
   "id": "692e1137",
   "metadata": {},
   "outputs": [
    {
     "data": {
      "text/plain": [
       "tensor([16.6667, 16.6667, 16.6667, 16.6667, 16.6667])"
      ]
     },
     "execution_count": 8,
     "metadata": {},
     "output_type": "execute_result"
    }
   ],
   "source": [
    "data_var = data.var(0,False) # 母体方差\n",
    "data_var"
   ]
  },
  {
   "cell_type": "code",
   "execution_count": 9,
   "id": "213530db",
   "metadata": {},
   "outputs": [
    {
     "data": {
      "text/plain": [
       "tensor([5., 6., 7., 8., 9.])"
      ]
     },
     "execution_count": 9,
     "metadata": {},
     "output_type": "execute_result"
    }
   ],
   "source": [
    "data_mean = data.mean(0)\n",
    "data_mean"
   ]
  },
  {
   "cell_type": "markdown",
   "id": "244602b6",
   "metadata": {},
   "source": [
    "### 使用母体方差"
   ]
  },
  {
   "cell_type": "code",
   "execution_count": 10,
   "id": "0a7307fb",
   "metadata": {
    "scrolled": true
   },
   "outputs": [
    {
     "data": {
      "text/plain": [
       "tensor([[-1.2247, -1.2247, -1.2247, -1.2247, -1.2247],\n",
       "        [ 0.0000,  0.0000,  0.0000,  0.0000,  0.0000],\n",
       "        [ 1.2247,  1.2247,  1.2247,  1.2247,  1.2247]])"
      ]
     },
     "execution_count": 10,
     "metadata": {},
     "output_type": "execute_result"
    }
   ],
   "source": [
    "(data - data_mean)/np.sqrt(data_var)"
   ]
  },
  {
   "cell_type": "code",
   "execution_count": 11,
   "id": "2cbdbce7",
   "metadata": {},
   "outputs": [],
   "source": [
    "bn1 = torch.nn.BatchNorm1d(5, momentum=1)"
   ]
  },
  {
   "cell_type": "code",
   "execution_count": 12,
   "id": "be14f8d1",
   "metadata": {},
   "outputs": [
    {
     "data": {
      "text/plain": [
       "BatchNorm1d(5, eps=1e-05, momentum=1, affine=True, track_running_stats=True)"
      ]
     },
     "execution_count": 12,
     "metadata": {},
     "output_type": "execute_result"
    }
   ],
   "source": [
    "bn1"
   ]
  },
  {
   "cell_type": "code",
   "execution_count": 13,
   "id": "fc35a2dd",
   "metadata": {},
   "outputs": [
    {
     "data": {
      "text/plain": [
       "tensor([[-1.2247, -1.2247, -1.2247, -1.2247, -1.2247],\n",
       "        [ 0.0000,  0.0000,  0.0000,  0.0000,  0.0000],\n",
       "        [ 1.2247,  1.2247,  1.2247,  1.2247,  1.2247]],\n",
       "       grad_fn=<NativeBatchNormBackward0>)"
      ]
     },
     "execution_count": 13,
     "metadata": {},
     "output_type": "execute_result"
    }
   ],
   "source": [
    "bn1(data)"
   ]
  },
  {
   "cell_type": "code",
   "execution_count": 14,
   "id": "90a04da0",
   "metadata": {},
   "outputs": [
    {
     "data": {
      "text/plain": [
       "OrderedDict([('weight', tensor([1., 1., 1., 1., 1.])),\n",
       "             ('bias', tensor([0., 0., 0., 0., 0.])),\n",
       "             ('running_mean', tensor([5., 6., 7., 8., 9.])),\n",
       "             ('running_var', tensor([25., 25., 25., 25., 25.])),\n",
       "             ('num_batches_tracked', tensor(1))])"
      ]
     },
     "execution_count": 14,
     "metadata": {},
     "output_type": "execute_result"
    }
   ],
   "source": [
    "bn1.state_dict()"
   ]
  },
  {
   "cell_type": "code",
   "execution_count": 15,
   "id": "bce68ad2",
   "metadata": {},
   "outputs": [],
   "source": [
    "data_var=torch.Tensor.var(data, 0, True)"
   ]
  },
  {
   "cell_type": "code",
   "execution_count": 16,
   "id": "a9534286",
   "metadata": {},
   "outputs": [
    {
     "data": {
      "text/plain": [
       "tensor([25., 25., 25., 25., 25.])"
      ]
     },
     "execution_count": 16,
     "metadata": {},
     "output_type": "execute_result"
    }
   ],
   "source": [
    "data_var"
   ]
  },
  {
   "cell_type": "code",
   "execution_count": 17,
   "id": "c506339c",
   "metadata": {},
   "outputs": [
    {
     "data": {
      "text/plain": [
       "OrderedDict([('weight', tensor([1., 1., 1., 1., 1.])),\n",
       "             ('bias', tensor([0., 0., 0., 0., 0.])),\n",
       "             ('running_mean', tensor([0., 0., 0., 0., 0.])),\n",
       "             ('running_var', tensor([1., 1., 1., 1., 1.])),\n",
       "             ('num_batches_tracked', tensor(0))])"
      ]
     },
     "execution_count": 17,
     "metadata": {},
     "output_type": "execute_result"
    }
   ],
   "source": [
    "bn2=torch.nn.BatchNorm1d(5, momentum=0.5)\n",
    "bn2.state_dict()"
   ]
  },
  {
   "cell_type": "code",
   "execution_count": 18,
   "id": "90a6bf9d",
   "metadata": {},
   "outputs": [
    {
     "data": {
      "text/plain": [
       "tensor([[-1.2247, -1.2247, -1.2247, -1.2247, -1.2247],\n",
       "        [ 0.0000,  0.0000,  0.0000,  0.0000,  0.0000],\n",
       "        [ 1.2247,  1.2247,  1.2247,  1.2247,  1.2247]],\n",
       "       grad_fn=<NativeBatchNormBackward0>)"
      ]
     },
     "execution_count": 18,
     "metadata": {},
     "output_type": "execute_result"
    }
   ],
   "source": [
    "bn2(data)"
   ]
  },
  {
   "cell_type": "markdown",
   "id": "5a68973d",
   "metadata": {},
   "source": [
    "## running_var = 0.5\\*1+0.5\\*25=13"
   ]
  },
  {
   "cell_type": "code",
   "execution_count": 19,
   "id": "2e2be3e8",
   "metadata": {},
   "outputs": [
    {
     "data": {
      "text/plain": [
       "OrderedDict([('weight', tensor([1., 1., 1., 1., 1.])),\n",
       "             ('bias', tensor([0., 0., 0., 0., 0.])),\n",
       "             ('running_mean',\n",
       "              tensor([2.5000, 3.0000, 3.5000, 4.0000, 4.5000])),\n",
       "             ('running_var', tensor([13., 13., 13., 13., 13.])),\n",
       "             ('num_batches_tracked', tensor(1))])"
      ]
     },
     "execution_count": 19,
     "metadata": {},
     "output_type": "execute_result"
    }
   ],
   "source": [
    "bn2.state_dict()"
   ]
  },
  {
   "cell_type": "code",
   "execution_count": 20,
   "id": "3772ca62",
   "metadata": {},
   "outputs": [],
   "source": [
    "a = torch.randn(3,3)"
   ]
  },
  {
   "cell_type": "code",
   "execution_count": 21,
   "id": "adea9da5",
   "metadata": {},
   "outputs": [
    {
     "data": {
      "text/plain": [
       "tensor([[ 0.7976,  0.7063,  0.5399],\n",
       "        [ 0.9518, -0.9554, -0.4935],\n",
       "        [-1.4796,  0.9450,  0.3082]])"
      ]
     },
     "execution_count": 21,
     "metadata": {},
     "output_type": "execute_result"
    }
   ],
   "source": [
    "a"
   ]
  },
  {
   "cell_type": "markdown",
   "id": "20bd0263",
   "metadata": {},
   "source": [
    "<img src=\"./var.png\", width=320, heigth=240>"
   ]
  },
  {
   "cell_type": "code",
   "execution_count": 22,
   "id": "93c7bed5",
   "metadata": {},
   "outputs": [
    {
     "data": {
      "text/plain": [
       "tensor([1.2357, 0.7144, 0.1960])"
      ]
     },
     "execution_count": 22,
     "metadata": {},
     "output_type": "execute_result"
    }
   ],
   "source": [
    "a.var(0, False)"
   ]
  },
  {
   "cell_type": "code",
   "execution_count": 23,
   "id": "c9cb739f",
   "metadata": {},
   "outputs": [
    {
     "data": {
      "text/plain": [
       "tensor([1.8536, 1.0716, 0.2940])"
      ]
     },
     "execution_count": 23,
     "metadata": {},
     "output_type": "execute_result"
    }
   ],
   "source": [
    "a.var(0, True)"
   ]
  },
  {
   "cell_type": "code",
   "execution_count": 24,
   "id": "a57879a1",
   "metadata": {},
   "outputs": [
    {
     "data": {
      "text/plain": [
       "tensor([0.0899, 0.2320, 0.1182])"
      ]
     },
     "execution_count": 24,
     "metadata": {},
     "output_type": "execute_result"
    }
   ],
   "source": [
    "mean = a.mean(0)\n",
    "mean"
   ]
  },
  {
   "cell_type": "code",
   "execution_count": 25,
   "id": "fee412cd",
   "metadata": {},
   "outputs": [
    {
     "ename": "RuntimeError",
     "evalue": "The size of tensor a (3) must match the size of tensor b (5) at non-singleton dimension 1",
     "output_type": "error",
     "traceback": [
      "\u001b[1;31m---------------------------------------------------------------------------\u001b[0m",
      "\u001b[1;31mRuntimeError\u001b[0m                              Traceback (most recent call last)",
      "Input \u001b[1;32mIn [25]\u001b[0m, in \u001b[0;36m<cell line: 1>\u001b[1;34m()\u001b[0m\n\u001b[1;32m----> 1\u001b[0m \u001b[43m(\u001b[49m\u001b[43ma\u001b[49m\u001b[38;5;241;43m-\u001b[39;49m\u001b[43mmean\u001b[49m\u001b[43m)\u001b[49m\u001b[38;5;241;43m/\u001b[39;49m\u001b[43mnp\u001b[49m\u001b[38;5;241;43m.\u001b[39;49m\u001b[43msqrt\u001b[49m\u001b[43m(\u001b[49m\u001b[43mvar\u001b[49m\u001b[43m)\u001b[49m\n",
      "\u001b[1;31mRuntimeError\u001b[0m: The size of tensor a (3) must match the size of tensor b (5) at non-singleton dimension 1"
     ]
    }
   ],
   "source": [
    "(a-mean)/np.sqrt(var)"
   ]
  },
  {
   "cell_type": "code",
   "execution_count": null,
   "id": "d9a85135",
   "metadata": {},
   "outputs": [],
   "source": [
    "bn1 = torch.nn.BatchNorm1d(3, momentum=1)"
   ]
  },
  {
   "cell_type": "code",
   "execution_count": null,
   "id": "3d4b6ff7",
   "metadata": {},
   "outputs": [],
   "source": [
    "bn1(a)"
   ]
  },
  {
   "cell_type": "code",
   "execution_count": null,
   "id": "38d5a696",
   "metadata": {},
   "outputs": [],
   "source": []
  }
 ],
 "metadata": {
  "kernelspec": {
   "display_name": "Pytorch",
   "language": "python",
   "name": "pytorch"
  },
  "language_info": {
   "codemirror_mode": {
    "name": "ipython",
    "version": 3
   },
   "file_extension": ".py",
   "mimetype": "text/x-python",
   "name": "python",
   "nbconvert_exporter": "python",
   "pygments_lexer": "ipython3",
   "version": "3.9.12"
  }
 },
 "nbformat": 4,
 "nbformat_minor": 5
}
