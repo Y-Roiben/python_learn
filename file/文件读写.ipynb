{
 "cells": [
  {
   "cell_type": "code",
   "execution_count": 1,
   "id": "ddb29895",
   "metadata": {},
   "outputs": [],
   "source": [
    "import numpy as np \n",
    "import matplotlib.pyplot as plt\n",
    "import pandas as pd"
   ]
  },
  {
   "cell_type": "markdown",
   "id": "ba3dd636",
   "metadata": {},
   "source": [
    "### 文件读写"
   ]
  },
  {
   "cell_type": "code",
   "execution_count": 2,
   "id": "6eaa44a5",
   "metadata": {},
   "outputs": [],
   "source": [
    "from datetime import datetime"
   ]
  },
  {
   "cell_type": "code",
   "execution_count": 3,
   "id": "c12db7c6",
   "metadata": {},
   "outputs": [],
   "source": [
    "f = open('ily.txt','r', encoding='utf-8')"
   ]
  },
  {
   "cell_type": "markdown",
   "id": "cce44bf4",
   "metadata": {},
   "source": [
    "输出所有\n",
    "数组"
   ]
  },
  {
   "cell_type": "code",
   "execution_count": 4,
   "id": "59a8cb7c",
   "metadata": {},
   "outputs": [
    {
     "data": {
      "text/plain": [
       "['中国\\n', '美国\\n', '日本\\n', '新西兰\\n', '澳大利亚\\n', '英格兰\\n', '俄罗斯\\n', '加拿大\\n', '墨西哥\\n']"
      ]
     },
     "execution_count": 4,
     "metadata": {},
     "output_type": "execute_result"
    }
   ],
   "source": [
    "f.readlines()"
   ]
  },
  {
   "cell_type": "markdown",
   "id": "674f67b8",
   "metadata": {},
   "source": [
    "输出一行"
   ]
  },
  {
   "cell_type": "code",
   "execution_count": 5,
   "id": "3f6503b3",
   "metadata": {},
   "outputs": [],
   "source": [
    "f = open('ily.txt','r', encoding='utf-8')"
   ]
  },
  {
   "cell_type": "code",
   "execution_count": 6,
   "id": "ac1574cf",
   "metadata": {},
   "outputs": [
    {
     "data": {
      "text/plain": [
       "'中国\\n美国\\n日本\\n新西兰\\n澳大利亚\\n英格兰\\n俄罗斯\\n加拿大\\n墨西哥\\n'"
      ]
     },
     "execution_count": 6,
     "metadata": {},
     "output_type": "execute_result"
    }
   ],
   "source": [
    "f.read()"
   ]
  },
  {
   "cell_type": "code",
   "execution_count": 7,
   "id": "de31adfc",
   "metadata": {},
   "outputs": [],
   "source": [
    "f.close()"
   ]
  },
  {
   "cell_type": "markdown",
   "id": "929fa620",
   "metadata": {},
   "source": [
    "w新建或覆盖"
   ]
  },
  {
   "cell_type": "code",
   "execution_count": 8,
   "id": "8d3b85b5",
   "metadata": {},
   "outputs": [],
   "source": [
    "file = open('a.txt','w', encoding='utf-8')"
   ]
  },
  {
   "cell_type": "code",
   "execution_count": 9,
   "id": "77c08393",
   "metadata": {},
   "outputs": [
    {
     "data": {
      "text/plain": [
       "2"
      ]
     },
     "execution_count": 9,
     "metadata": {},
     "output_type": "execute_result"
    }
   ],
   "source": [
    "file.write('中国')"
   ]
  },
  {
   "cell_type": "code",
   "execution_count": 10,
   "id": "93cd7680",
   "metadata": {},
   "outputs": [],
   "source": [
    "file.close()"
   ]
  },
  {
   "cell_type": "markdown",
   "id": "06e22a0a",
   "metadata": {},
   "source": [
    "a 追加或新建"
   ]
  },
  {
   "cell_type": "code",
   "execution_count": 11,
   "id": "3022d7ee",
   "metadata": {},
   "outputs": [],
   "source": [
    "file = open('a.txt','a', encoding='utf-8')\n",
    "file.write('日本')\n",
    "file.close()"
   ]
  },
  {
   "cell_type": "markdown",
   "id": "dcac9da9",
   "metadata": {},
   "source": [
    "b 二进制"
   ]
  },
  {
   "cell_type": "code",
   "execution_count": 12,
   "id": "0bd2fbe8",
   "metadata": {},
   "outputs": [],
   "source": [
    "f1 = open(\"C:\\\\Users\\\\11947\\\\OneDrive\\\\桌面\\\\LSTM.png\",'rb')\n",
    "f2 = open(\"C:\\\\Users\\\\11947\\\\OneDrive\\\\桌面\\\\LSTM2.jpg\",'wb')\n",
    "f2.write(f1.read())\n",
    "f1.close()\n",
    "f2.close()"
   ]
  },
  {
   "cell_type": "markdown",
   "id": "d6a81554",
   "metadata": {},
   "source": [
    "文件操作"
   ]
  },
  {
   "cell_type": "code",
   "execution_count": 1,
   "id": "aa7d320b",
   "metadata": {},
   "outputs": [
    {
     "name": "stdout",
     "output_type": "stream",
     "text": [
      "hello\n",
      "python\n",
      "matlabplot\n",
      "numpy\n",
      "pandasqwe\n"
     ]
    }
   ],
   "source": [
    "file = open('a.txt','r')\n",
    "print(file.read())\n",
    "file.close()"
   ]
  },
  {
   "cell_type": "markdown",
   "id": "ac2f7eca",
   "metadata": {},
   "source": [
    "读几个"
   ]
  },
  {
   "cell_type": "code",
   "execution_count": 33,
   "id": "580fa36c",
   "metadata": {},
   "outputs": [
    {
     "name": "stdout",
     "output_type": "stream",
     "text": [
      "国日\n"
     ]
    }
   ],
   "source": [
    "file = open('a.txt','r',encoding = 'utf-8')\n",
    "file.seek(3)\n",
    "print(file.read(2))\n",
    "file.close()"
   ]
  },
  {
   "cell_type": "markdown",
   "id": "742f6e7d",
   "metadata": {},
   "source": [
    "读一行"
   ]
  },
  {
   "cell_type": "code",
   "execution_count": 4,
   "id": "2268ee88",
   "metadata": {},
   "outputs": [
    {
     "name": "stdout",
     "output_type": "stream",
     "text": [
      "hello\n",
      "\n"
     ]
    }
   ],
   "source": [
    "file = open('a.txt','r')\n",
    "print(file.readline())\n",
    "file.close()"
   ]
  },
  {
   "cell_type": "code",
   "execution_count": 6,
   "id": "9e20eef8",
   "metadata": {},
   "outputs": [
    {
     "name": "stdout",
     "output_type": "stream",
     "text": [
      "['hello\\n', 'python\\n', 'matlabplot\\n', 'numpy\\n', 'pandasqwe']\n"
     ]
    }
   ],
   "source": [
    "file = open('a.txt','r')\n",
    "print(file.readlines())\n",
    "file.close()"
   ]
  },
  {
   "cell_type": "markdown",
   "id": "75e20991",
   "metadata": {},
   "source": [
    "## 写"
   ]
  },
  {
   "cell_type": "code",
   "execution_count": 7,
   "id": "8025d8fd",
   "metadata": {},
   "outputs": [],
   "source": [
    "file = open('b.txt','a')\n",
    "file.write('hello')\n",
    "file.close()"
   ]
  },
  {
   "cell_type": "code",
   "execution_count": 9,
   "id": "9916ce97",
   "metadata": {},
   "outputs": [],
   "source": [
    "file = open('b.txt','a')\n",
    "lst = ['helo','python','word']\n",
    "file.writelines(lst)\n",
    "file.close()"
   ]
  },
  {
   "cell_type": "markdown",
   "id": "96802110",
   "metadata": {},
   "source": [
    "把文件指针移动到新的位置"
   ]
  },
  {
   "cell_type": "code",
   "execution_count": 11,
   "id": "7bdadbc3",
   "metadata": {},
   "outputs": [
    {
     "name": "stdout",
     "output_type": "stream",
     "text": [
      "llo\n",
      "python\n",
      "matlabplot\n",
      "numpy\n",
      "pandasqwe\n"
     ]
    }
   ],
   "source": [
    "file = open('a.txt','r')\n",
    "file.seek(2)\n",
    "print(file.read())\n",
    "file.close()"
   ]
  },
  {
   "cell_type": "code",
   "execution_count": 12,
   "id": "1ad206a7",
   "metadata": {},
   "outputs": [
    {
     "name": "stdout",
     "output_type": "stream",
     "text": [
      "llo\n",
      "python\n",
      "matlabplot\n",
      "numpy\n",
      "pandasqwe\n"
     ]
    }
   ],
   "source": [
    "file = open('a.txt','r')\n",
    "file.seek(2)\n",
    "print(file.read())\n",
    "file.close()"
   ]
  },
  {
   "cell_type": "markdown",
   "id": "13bca7fb",
   "metadata": {},
   "source": [
    "tell() 返回文件指针的当前位置"
   ]
  },
  {
   "cell_type": "code",
   "execution_count": 16,
   "id": "d786fe97",
   "metadata": {
    "scrolled": true
   },
   "outputs": [
    {
     "name": "stdout",
     "output_type": "stream",
     "text": [
      "ello\n",
      "\n",
      "6\n"
     ]
    }
   ],
   "source": [
    "file = open('a.txt','r')\n",
    "file.seek(1)\n",
    "print(file.readline())\n",
    "print(file.tell())\n",
    "file.close()"
   ]
  },
  {
   "cell_type": "code",
   "execution_count": 20,
   "id": "a576d0d6",
   "metadata": {},
   "outputs": [],
   "source": [
    "file = open('a.txt','w', encoding='utf-8')\n",
    "file.write('中国')\n",
    "file.close()"
   ]
  },
  {
   "cell_type": "code",
   "execution_count": 21,
   "id": "2ff70362",
   "metadata": {},
   "outputs": [],
   "source": [
    "file = open('a.txt','a', encoding='utf-8')\n",
    "file.write('日本')\n",
    "file.close()"
   ]
  },
  {
   "cell_type": "markdown",
   "id": "614f6669",
   "metadata": {},
   "source": [
    "将缓冲区内容写入文件但是不关闭文件"
   ]
  },
  {
   "cell_type": "code",
   "execution_count": 22,
   "id": "7e9db0a3",
   "metadata": {},
   "outputs": [],
   "source": [
    "file = open('a.txt','a', encoding='utf-8')\n",
    "file.write('美国')\n",
    "file.flush()"
   ]
  },
  {
   "cell_type": "code",
   "execution_count": 24,
   "id": "9118966c",
   "metadata": {},
   "outputs": [],
   "source": [
    "file.write('澳大利亚')\n",
    "file.close()"
   ]
  },
  {
   "cell_type": "markdown",
   "id": "eb3bc1bc",
   "metadata": {},
   "source": [
    "with 语句"
   ]
  },
  {
   "cell_type": "code",
   "execution_count": 26,
   "id": "bc2284f0",
   "metadata": {},
   "outputs": [
    {
     "name": "stdout",
     "output_type": "stream",
     "text": [
      "['中国日本美国澳大利亚']\n"
     ]
    }
   ],
   "source": [
    "with open('a.txt','r',encoding='utf-8') as file:\n",
    "    print(file.readlines())"
   ]
  },
  {
   "cell_type": "code",
   "execution_count": null,
   "id": "e9064973",
   "metadata": {},
   "outputs": [],
   "source": []
  }
 ],
 "metadata": {
  "kernelspec": {
   "display_name": "Python 3 (ipykernel)",
   "language": "python",
   "name": "python3"
  },
  "language_info": {
   "codemirror_mode": {
    "name": "ipython",
    "version": 3
   },
   "file_extension": ".py",
   "mimetype": "text/x-python",
   "name": "python",
   "nbconvert_exporter": "python",
   "pygments_lexer": "ipython3",
   "version": "3.9.12"
  }
 },
 "nbformat": 4,
 "nbformat_minor": 5
}
